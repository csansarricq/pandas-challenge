{
 "cells": [
  {
   "cell_type": "code",
   "execution_count": 2,
   "id": "73d3473d-f6db-4ffc-ba69-c3359606a104",
   "metadata": {},
   "outputs": [
    {
     "data": {
      "text/html": [
       "<div>\n",
       "<style scoped>\n",
       "    .dataframe tbody tr th:only-of-type {\n",
       "        vertical-align: middle;\n",
       "    }\n",
       "\n",
       "    .dataframe tbody tr th {\n",
       "        vertical-align: top;\n",
       "    }\n",
       "\n",
       "    .dataframe thead th {\n",
       "        text-align: right;\n",
       "    }\n",
       "</style>\n",
       "<table border=\"1\" class=\"dataframe\">\n",
       "  <thead>\n",
       "    <tr style=\"text-align: right;\">\n",
       "      <th></th>\n",
       "      <th>Student ID</th>\n",
       "      <th>student_name</th>\n",
       "      <th>gender</th>\n",
       "      <th>grade</th>\n",
       "      <th>school_name</th>\n",
       "      <th>reading_score</th>\n",
       "      <th>math_score</th>\n",
       "      <th>School ID</th>\n",
       "      <th>type</th>\n",
       "      <th>size</th>\n",
       "      <th>budget</th>\n",
       "    </tr>\n",
       "  </thead>\n",
       "  <tbody>\n",
       "    <tr>\n",
       "      <th>0</th>\n",
       "      <td>0</td>\n",
       "      <td>Paul Bradley</td>\n",
       "      <td>M</td>\n",
       "      <td>9th</td>\n",
       "      <td>Huang High School</td>\n",
       "      <td>66</td>\n",
       "      <td>79</td>\n",
       "      <td>0</td>\n",
       "      <td>District</td>\n",
       "      <td>2917</td>\n",
       "      <td>1910635</td>\n",
       "    </tr>\n",
       "    <tr>\n",
       "      <th>1</th>\n",
       "      <td>1</td>\n",
       "      <td>Victor Smith</td>\n",
       "      <td>M</td>\n",
       "      <td>12th</td>\n",
       "      <td>Huang High School</td>\n",
       "      <td>94</td>\n",
       "      <td>61</td>\n",
       "      <td>0</td>\n",
       "      <td>District</td>\n",
       "      <td>2917</td>\n",
       "      <td>1910635</td>\n",
       "    </tr>\n",
       "    <tr>\n",
       "      <th>2</th>\n",
       "      <td>2</td>\n",
       "      <td>Kevin Rodriguez</td>\n",
       "      <td>M</td>\n",
       "      <td>12th</td>\n",
       "      <td>Huang High School</td>\n",
       "      <td>90</td>\n",
       "      <td>60</td>\n",
       "      <td>0</td>\n",
       "      <td>District</td>\n",
       "      <td>2917</td>\n",
       "      <td>1910635</td>\n",
       "    </tr>\n",
       "    <tr>\n",
       "      <th>3</th>\n",
       "      <td>3</td>\n",
       "      <td>Dr. Richard Scott</td>\n",
       "      <td>M</td>\n",
       "      <td>12th</td>\n",
       "      <td>Huang High School</td>\n",
       "      <td>67</td>\n",
       "      <td>58</td>\n",
       "      <td>0</td>\n",
       "      <td>District</td>\n",
       "      <td>2917</td>\n",
       "      <td>1910635</td>\n",
       "    </tr>\n",
       "    <tr>\n",
       "      <th>4</th>\n",
       "      <td>4</td>\n",
       "      <td>Bonnie Ray</td>\n",
       "      <td>F</td>\n",
       "      <td>9th</td>\n",
       "      <td>Huang High School</td>\n",
       "      <td>97</td>\n",
       "      <td>84</td>\n",
       "      <td>0</td>\n",
       "      <td>District</td>\n",
       "      <td>2917</td>\n",
       "      <td>1910635</td>\n",
       "    </tr>\n",
       "  </tbody>\n",
       "</table>\n",
       "</div>"
      ],
      "text/plain": [
       "   Student ID       student_name gender grade        school_name  \\\n",
       "0           0       Paul Bradley      M   9th  Huang High School   \n",
       "1           1       Victor Smith      M  12th  Huang High School   \n",
       "2           2    Kevin Rodriguez      M  12th  Huang High School   \n",
       "3           3  Dr. Richard Scott      M  12th  Huang High School   \n",
       "4           4         Bonnie Ray      F   9th  Huang High School   \n",
       "\n",
       "   reading_score  math_score  School ID      type  size   budget  \n",
       "0             66          79          0  District  2917  1910635  \n",
       "1             94          61          0  District  2917  1910635  \n",
       "2             90          60          0  District  2917  1910635  \n",
       "3             67          58          0  District  2917  1910635  \n",
       "4             97          84          0  District  2917  1910635  "
      ]
     },
     "execution_count": 2,
     "metadata": {},
     "output_type": "execute_result"
    }
   ],
   "source": [
    "import pandas as pd\n",
    "from pathlib import Path\n",
    "\n",
    "school_load= Path(\"schools_complete.csv\")\n",
    "student_load= Path(\"students_complete.csv\")\n",
    "\n",
    "school_data = pd.read_csv(school_load)\n",
    "student_data = pd.read_csv(student_load)\n",
    "\n",
    "complete_df = pd.merge(student_data, school_data, how =\"left\", on = \"school_name\")\n",
    "complete_df.head()"
   ]
  },
  {
   "cell_type": "code",
   "execution_count": 18,
   "id": "2edaeeca-8d82-4aba-8754-f1030501bf53",
   "metadata": {},
   "outputs": [
    {
     "data": {
      "text/plain": [
       "15"
      ]
     },
     "execution_count": 18,
     "metadata": {},
     "output_type": "execute_result"
    }
   ],
   "source": [
    "school_count = len(complete_df.school_name.unique())\n",
    "#if you want the names of the schools and the counts the code below works\n",
    "#school_count = complete_df[\"school_name\"].value_counts()\n",
    "school_count"
   ]
  },
  {
   "cell_type": "code",
   "execution_count": 9,
   "id": "5a750cfb-3b1d-498c-802c-66566b14d732",
   "metadata": {},
   "outputs": [
    {
     "data": {
      "text/plain": [
       "39170"
      ]
     },
     "execution_count": 9,
     "metadata": {},
     "output_type": "execute_result"
    }
   ],
   "source": [
    "student_count=complete_df[\"student_name\"].count()\n",
    "student_count"
   ]
  },
  {
   "cell_type": "code",
   "execution_count": 21,
   "id": "134c0c66-26aa-46f6-91e5-38e0088fb4de",
   "metadata": {},
   "outputs": [
    {
     "data": {
      "text/plain": [
       "24649428"
      ]
     },
     "execution_count": 21,
     "metadata": {},
     "output_type": "execute_result"
    }
   ],
   "source": [
    "total_budget= sum(complete_df[\"budget\"].unique())\n",
    "total_budget"
   ]
  },
  {
   "cell_type": "code",
   "execution_count": 13,
   "id": "839abac8-d02b-42ce-807a-bcb39bb32f55",
   "metadata": {},
   "outputs": [
    {
     "data": {
      "text/plain": [
       "78.98537145774827"
      ]
     },
     "execution_count": 13,
     "metadata": {},
     "output_type": "execute_result"
    }
   ],
   "source": [
    "average_math_score= complete_df[\"math_score\"].mean()\n",
    "average_math_score"
   ]
  },
  {
   "cell_type": "code",
   "execution_count": 23,
   "id": "2c4536fc-a6c5-4ed5-87ff-f4ad140ed0b7",
   "metadata": {},
   "outputs": [
    {
     "data": {
      "text/plain": [
       "81.87784018381414"
      ]
     },
     "execution_count": 23,
     "metadata": {},
     "output_type": "execute_result"
    }
   ],
   "source": [
    "#realized that i could just use a . instead of [\"\"]\n",
    "average_reading_score = complete_df.reading_score.mean()\n",
    "average_reading_score"
   ]
  },
  {
   "cell_type": "code",
   "execution_count": 24,
   "id": "884810bc-1bae-42bb-bb9b-7edb81ea8b6e",
   "metadata": {},
   "outputs": [
    {
     "data": {
      "text/plain": [
       "74.9808526933878"
      ]
     },
     "execution_count": 24,
     "metadata": {},
     "output_type": "execute_result"
    }
   ],
   "source": [
    "passing_math_count = complete_df[(complete_df[\"math_score\"] >= 70)].count()[\"student_name\"]\n",
    "passing_math_percentage = passing_math_count / float(student_count) * 100\n",
    "passing_math_percentage"
   ]
  },
  {
   "cell_type": "code",
   "execution_count": 27,
   "id": "3e4a4d80-9d68-40b1-8829-7ff9f2692a78",
   "metadata": {},
   "outputs": [
    {
     "data": {
      "text/plain": [
       "65.17232575950983"
      ]
     },
     "execution_count": 27,
     "metadata": {},
     "output_type": "execute_result"
    }
   ],
   "source": [
    "# Use the following to calculate the percentage of students that passed math and reading\n",
    "passing_math_reading_count = complete_df[\n",
    "    (complete_df[\"math_score\"] >= 70) & (complete_df[\"reading_score\"] >= 70)\n",
    "].count()[\"student_name\"]\n",
    "overall_passing_rate = passing_math_reading_count /  float(student_count) * 100\n",
    "overall_passing_rate"
   ]
  },
  {
   "cell_type": "code",
   "execution_count": 31,
   "id": "7dbaf7f3-5cbe-4587-8ed5-cdc798b3cf69",
   "metadata": {},
   "outputs": [
    {
     "data": {
      "text/html": [
       "<div>\n",
       "<style scoped>\n",
       "    .dataframe tbody tr th:only-of-type {\n",
       "        vertical-align: middle;\n",
       "    }\n",
       "\n",
       "    .dataframe tbody tr th {\n",
       "        vertical-align: top;\n",
       "    }\n",
       "\n",
       "    .dataframe thead th {\n",
       "        text-align: right;\n",
       "    }\n",
       "</style>\n",
       "<table border=\"1\" class=\"dataframe\">\n",
       "  <thead>\n",
       "    <tr style=\"text-align: right;\">\n",
       "      <th></th>\n",
       "      <th>Total Schools</th>\n",
       "      <th>Total Students</th>\n",
       "      <th>Total Budget</th>\n",
       "      <th>Average Math</th>\n",
       "      <th>Average Reading</th>\n",
       "    </tr>\n",
       "  </thead>\n",
       "  <tbody>\n",
       "    <tr>\n",
       "      <th>0</th>\n",
       "      <td>15</td>\n",
       "      <td>39,170</td>\n",
       "      <td>$24,649,428.00</td>\n",
       "      <td>78.985371</td>\n",
       "      <td>81.87784</td>\n",
       "    </tr>\n",
       "  </tbody>\n",
       "</table>\n",
       "</div>"
      ],
      "text/plain": [
       "   Total Schools Total Students    Total Budget  Average Math  Average Reading\n",
       "0             15         39,170  $24,649,428.00     78.985371         81.87784"
      ]
     },
     "execution_count": 31,
     "metadata": {},
     "output_type": "execute_result"
    }
   ],
   "source": [
    "# Create a high-level snapshot of the district's key metrics in a DataFrame\n",
    "#i am assuming this is a dataframe for all of the calculations\n",
    "\n",
    "district_summary =pd.DataFrame({\"Total Schools\": [school_count],\n",
    "                                \"Total Students\": [student_count],\n",
    "                                \"Total Budget\": [total_budget],\n",
    "                                \"Average Math\": [average_math_score],\n",
    "                                \"Average Reading\": [average_reading_score]})\n",
    "                                \n",
    "\n",
    "# Formatting\n",
    "district_summary[\"Total Students\"] = district_summary[\"Total Students\"].map(\"{:,}\".format)\n",
    "district_summary[\"Total Budget\"] = district_summary[\"Total Budget\"].map(\"${:,.2f}\".format)\n",
    "\n",
    "# Display the DataFrame\n",
    "district_summary"
   ]
  },
  {
   "cell_type": "code",
   "execution_count": 44,
   "id": "ebff805d-73df-4e3f-8d31-dec9b71bd098",
   "metadata": {},
   "outputs": [],
   "source": [
    "# Use the code provided to select the type per school from school_data\n",
    "school_types = complete_df.set_index([\"school_name\"])[\"type\"]\n"
   ]
  },
  {
   "cell_type": "code",
   "execution_count": 45,
   "id": "4956753d-7396-4703-9a86-147bd41f86fc",
   "metadata": {},
   "outputs": [
    {
     "data": {
      "text/plain": [
       "39170"
      ]
     },
     "execution_count": 45,
     "metadata": {},
     "output_type": "execute_result"
    }
   ],
   "source": [
    "# Calculate the total student count per school from school_data\n",
    "#not sure if this is correct, is this supposed to be the same?\n",
    "per_school_counts = complete_df[\"student_name\"].count()\n",
    "per_school_counts"
   ]
  },
  {
   "cell_type": "code",
   "execution_count": 52,
   "id": "1414e854-6030-4061-894f-2d36117d54e0",
   "metadata": {},
   "outputs": [
    {
     "name": "stdout",
     "output_type": "stream",
     "text": [
      "                       Student ID  reading_score  math_score  School ID  \\\n",
      "school_name                                                               \n",
      "Bailey High School       0.519747       0.002069    0.001967   0.000179   \n",
      "Cabrera High School      0.432512       0.002144    0.002121   0.000153   \n",
      "Figueroa High School     0.112101       0.002072    0.001958   0.000026   \n",
      "Ford High School         0.923283       0.002061    0.001968   0.000332   \n",
      "Griffin High School      0.331772       0.002140    0.002128   0.000102   \n",
      "Hernandez High School    0.253868       0.002066    0.001973   0.000077   \n",
      "Holden High School       0.588716       0.002140    0.002139   0.000204   \n",
      "Huang High School        0.037222       0.002073    0.001956   0.000000   \n",
      "Johnson High School      0.827547       0.002067    0.001968   0.000306   \n",
      "Pena High School         0.606446       0.002146    0.002140   0.000230   \n",
      "Rodriguez High School    0.715726       0.002061    0.001962   0.000281   \n",
      "Shelton High School      0.172224       0.002137    0.002128   0.000051   \n",
      "Thomas High School       0.979117       0.002141    0.002130   0.000357   \n",
      "Wilson High School       0.379653       0.002144    0.002126   0.000128   \n",
      "Wright High School       0.641703       0.002143    0.002136   0.000255   \n",
      "\n",
      "                           size     budget  \n",
      "school_name                                 \n",
      "Bailey High School     0.127036  79.778606  \n",
      "Cabrera High School    0.047434  27.606740  \n",
      "Figueroa High School   0.075287  48.108527  \n",
      "Ford High School       0.069926  45.032321  \n",
      "Griffin High School    0.037478  23.423538  \n",
      "Hernandez High School  0.118330  77.151391  \n",
      "Holden High School     0.010901   6.333597  \n",
      "Huang High School      0.074470  48.778019  \n",
      "Johnson High School    0.121547  79.005617  \n",
      "Pena High School       0.024560  14.956804  \n",
      "Rodriguez High School  0.102093  65.033521  \n",
      "Shelton High School    0.044958  26.974726  \n",
      "Thomas High School     0.041741  26.630840  \n",
      "Wilson High School     0.058284  33.688384  \n",
      "Wright High School     0.045954  26.790911  \n"
     ]
    }
   ],
   "source": [
    "# Calculate the total school budget and per capita spending per school from school_data\n",
    "per_school_budget = complete_df.groupby([\"school_name\"]).mean(\"budget\")\n",
    "per_school_budget\n",
    "per_school_capita = per_school_budget/per_school_counts\n",
    "print(per_school_capita)"
   ]
  },
  {
   "cell_type": "code",
   "execution_count": 59,
   "id": "d62e4d9d-89af-4c7b-a2ea-12b25626076f",
   "metadata": {},
   "outputs": [
    {
     "name": "stdout",
     "output_type": "stream",
     "text": [
      "                       Student ID  reading_score  math_score  School ID  \\\n",
      "school_name                                                               \n",
      "Bailey High School        20358.5      81.033963   77.048432        7.0   \n",
      "Cabrera High School       16941.5      83.975780   83.061895        6.0   \n",
      "Figueroa High School       4391.0      81.158020   76.711767        1.0   \n",
      "Ford High School          36165.0      80.746258   77.102592       13.0   \n",
      "Griffin High School       12995.5      83.816757   83.351499        4.0   \n",
      "Hernandez High School      9944.0      80.934412   77.289752        3.0   \n",
      "Holden High School        23060.0      83.814988   83.803279        8.0   \n",
      "Huang High School          1458.0      81.182722   76.629414        0.0   \n",
      "Johnson High School       32415.0      80.966394   77.072464       12.0   \n",
      "Pena High School          23754.5      84.044699   83.839917        9.0   \n",
      "Rodriguez High School     28035.0      80.744686   76.842711       11.0   \n",
      "Shelton High School        6746.0      83.725724   83.359455        2.0   \n",
      "Thomas High School        38352.0      83.848930   83.418349       14.0   \n",
      "Wilson High School        14871.0      83.989488   83.274201        5.0   \n",
      "Wright High School        25135.5      83.955000   83.682222       10.0   \n",
      "\n",
      "                         size     budget  \n",
      "school_name                               \n",
      "Bailey High School     4976.0  3124928.0  \n",
      "Cabrera High School    1858.0  1081356.0  \n",
      "Figueroa High School   2949.0  1884411.0  \n",
      "Ford High School       2739.0  1763916.0  \n",
      "Griffin High School    1468.0   917500.0  \n",
      "Hernandez High School  4635.0  3022020.0  \n",
      "Holden High School      427.0   248087.0  \n",
      "Huang High School      2917.0  1910635.0  \n",
      "Johnson High School    4761.0  3094650.0  \n",
      "Pena High School        962.0   585858.0  \n",
      "Rodriguez High School  3999.0  2547363.0  \n",
      "Shelton High School    1761.0  1056600.0  \n",
      "Thomas High School     1635.0  1043130.0  \n",
      "Wilson High School     2283.0  1319574.0  \n",
      "Wright High School     1800.0  1049400.0  \n"
     ]
    }
   ],
   "source": [
    "# Calculate the average test scores per school from school_data_complete\n",
    "per_school_math = complete_df.groupby([\"school_name\"]).mean(\"math_score\")\n",
    "print(per_school_math)\n",
    "per_school_reading = complete_df.groupby([\"school_name\"]).mean(\"reading_score\")"
   ]
  },
  {
   "cell_type": "code",
   "execution_count": 74,
   "id": "60ba7ddf-ede3-43d0-944d-7b8e814d4cff",
   "metadata": {},
   "outputs": [
    {
     "name": "stdout",
     "output_type": "stream",
     "text": [
      "       Student ID     student_name gender grade         school_name  \\\n",
      "0               0     Paul Bradley      M   9th   Huang High School   \n",
      "4               4       Bonnie Ray      F   9th   Huang High School   \n",
      "5               5    Bryan Miranda      M   9th   Huang High School   \n",
      "6               6    Sheena Carter      F  11th   Huang High School   \n",
      "8               8     Michael Roth      M  10th   Huang High School   \n",
      "...           ...              ...    ...   ...                 ...   \n",
      "39165       39165     Donna Howard      F  12th  Thomas High School   \n",
      "39166       39166        Dawn Bell      F  10th  Thomas High School   \n",
      "39167       39167   Rebecca Tanner      F   9th  Thomas High School   \n",
      "39168       39168     Desiree Kidd      F  10th  Thomas High School   \n",
      "39169       39169  Carolyn Jackson      F  11th  Thomas High School   \n",
      "\n",
      "       reading_score  math_score  School ID      type  size   budget  \n",
      "0                 66          79          0  District  2917  1910635  \n",
      "4                 97          84          0  District  2917  1910635  \n",
      "5                 94          94          0  District  2917  1910635  \n",
      "6                 82          80          0  District  2917  1910635  \n",
      "8                 95          87          0  District  2917  1910635  \n",
      "...              ...         ...        ...       ...   ...      ...  \n",
      "39165             99          90         14   Charter  1635  1043130  \n",
      "39166             95          70         14   Charter  1635  1043130  \n",
      "39167             73          84         14   Charter  1635  1043130  \n",
      "39168             99          90         14   Charter  1635  1043130  \n",
      "39169             95          75         14   Charter  1635  1043130  \n",
      "\n",
      "[29370 rows x 11 columns]\n",
      "                       Student ID  student_name  gender  grade  reading_score  \\\n",
      "school_name                                                                     \n",
      "Bailey High School           3318          3318    3318   3318           3318   \n",
      "Cabrera High School          1749          1749    1749   1749           1749   \n",
      "Figueroa High School         1946          1946    1946   1946           1946   \n",
      "Ford High School             1871          1871    1871   1871           1871   \n",
      "Griffin High School          1371          1371    1371   1371           1371   \n",
      "Hernandez High School        3094          3094    3094   3094           3094   \n",
      "Holden High School            395           395     395    395            395   \n",
      "Huang High School            1916          1916    1916   1916           1916   \n",
      "Johnson High School          3145          3145    3145   3145           3145   \n",
      "Pena High School              910           910     910    910            910   \n",
      "Rodriguez High School        2654          2654    2654   2654           2654   \n",
      "Shelton High School          1653          1653    1653   1653           1653   \n",
      "Thomas High School           1525          1525    1525   1525           1525   \n",
      "Wilson High School           2143          2143    2143   2143           2143   \n",
      "Wright High School           1680          1680    1680   1680           1680   \n",
      "\n",
      "                       math_score  School ID  type  size  budget  \n",
      "school_name                                                       \n",
      "Bailey High School           3318       3318  3318  3318    3318  \n",
      "Cabrera High School          1749       1749  1749  1749    1749  \n",
      "Figueroa High School         1946       1946  1946  1946    1946  \n",
      "Ford High School             1871       1871  1871  1871    1871  \n",
      "Griffin High School          1371       1371  1371  1371    1371  \n",
      "Hernandez High School        3094       3094  3094  3094    3094  \n",
      "Holden High School            395        395   395   395     395  \n",
      "Huang High School            1916       1916  1916  1916    1916  \n",
      "Johnson High School          3145       3145  3145  3145    3145  \n",
      "Pena High School              910        910   910   910     910  \n",
      "Rodriguez High School        2654       2654  2654  2654    2654  \n",
      "Shelton High School          1653       1653  1653  1653    1653  \n",
      "Thomas High School           1525       1525  1525  1525    1525  \n",
      "Wilson High School           2143       2143  2143  2143    2143  \n",
      "Wright High School           1680       1680  1680  1680    1680  \n"
     ]
    }
   ],
   "source": [
    "# Calculate the number of students per school with math scores of 70 or higher from school_data_complete\n",
    "students_passing_math = complete_df[(complete_df[\"math_score\"]>=70)]\n",
    "\n",
    "#school_students_passing_math = <- is this another calculation? not sure but will group by school\n",
    "print(students_passing_math)\n",
    "school_students_passing_math = students_passing_math.groupby([\"school_name\"]).count()\n",
    "print(school_students_passing_math)"
   ]
  },
  {
   "cell_type": "code",
   "execution_count": 75,
   "id": "8ac5241a-1000-4f17-842a-11e0cb69c5da",
   "metadata": {},
   "outputs": [
    {
     "name": "stdout",
     "output_type": "stream",
     "text": [
      "       Student ID     student_name gender grade         school_name  \\\n",
      "1               1     Victor Smith      M  12th   Huang High School   \n",
      "2               2  Kevin Rodriguez      M  12th   Huang High School   \n",
      "4               4       Bonnie Ray      F   9th   Huang High School   \n",
      "5               5    Bryan Miranda      M   9th   Huang High School   \n",
      "6               6    Sheena Carter      F  11th   Huang High School   \n",
      "...           ...              ...    ...   ...                 ...   \n",
      "39165       39165     Donna Howard      F  12th  Thomas High School   \n",
      "39166       39166        Dawn Bell      F  10th  Thomas High School   \n",
      "39167       39167   Rebecca Tanner      F   9th  Thomas High School   \n",
      "39168       39168     Desiree Kidd      F  10th  Thomas High School   \n",
      "39169       39169  Carolyn Jackson      F  11th  Thomas High School   \n",
      "\n",
      "       reading_score  math_score  School ID      type  size   budget  \n",
      "1                 94          61          0  District  2917  1910635  \n",
      "2                 90          60          0  District  2917  1910635  \n",
      "4                 97          84          0  District  2917  1910635  \n",
      "5                 94          94          0  District  2917  1910635  \n",
      "6                 82          80          0  District  2917  1910635  \n",
      "...              ...         ...        ...       ...   ...      ...  \n",
      "39165             99          90         14   Charter  1635  1043130  \n",
      "39166             95          70         14   Charter  1635  1043130  \n",
      "39167             73          84         14   Charter  1635  1043130  \n",
      "39168             99          90         14   Charter  1635  1043130  \n",
      "39169             95          75         14   Charter  1635  1043130  \n",
      "\n",
      "[33610 rows x 11 columns]\n",
      "                       Student ID  student_name  gender  grade  reading_score  \\\n",
      "school_name                                                                     \n",
      "Bailey High School           4077          4077    4077   4077           4077   \n",
      "Cabrera High School          1803          1803    1803   1803           1803   \n",
      "Figueroa High School         2381          2381    2381   2381           2381   \n",
      "Ford High School             2172          2172    2172   2172           2172   \n",
      "Griffin High School          1426          1426    1426   1426           1426   \n",
      "Hernandez High School        3748          3748    3748   3748           3748   \n",
      "Holden High School            411           411     411    411            411   \n",
      "Huang High School            2372          2372    2372   2372           2372   \n",
      "Johnson High School          3867          3867    3867   3867           3867   \n",
      "Pena High School              923           923     923    923            923   \n",
      "Rodriguez High School        3208          3208    3208   3208           3208   \n",
      "Shelton High School          1688          1688    1688   1688           1688   \n",
      "Thomas High School           1591          1591    1591   1591           1591   \n",
      "Wilson High School           2204          2204    2204   2204           2204   \n",
      "Wright High School           1739          1739    1739   1739           1739   \n",
      "\n",
      "                       math_score  School ID  type  size  budget  \n",
      "school_name                                                       \n",
      "Bailey High School           4077       4077  4077  4077    4077  \n",
      "Cabrera High School          1803       1803  1803  1803    1803  \n",
      "Figueroa High School         2381       2381  2381  2381    2381  \n",
      "Ford High School             2172       2172  2172  2172    2172  \n",
      "Griffin High School          1426       1426  1426  1426    1426  \n",
      "Hernandez High School        3748       3748  3748  3748    3748  \n",
      "Holden High School            411        411   411   411     411  \n",
      "Huang High School            2372       2372  2372  2372    2372  \n",
      "Johnson High School          3867       3867  3867  3867    3867  \n",
      "Pena High School              923        923   923   923     923  \n",
      "Rodriguez High School        3208       3208  3208  3208    3208  \n",
      "Shelton High School          1688       1688  1688  1688    1688  \n",
      "Thomas High School           1591       1591  1591  1591    1591  \n",
      "Wilson High School           2204       2204  2204  2204    2204  \n",
      "Wright High School           1739       1739  1739  1739    1739  \n"
     ]
    }
   ],
   "source": [
    "# Calculate the number of students per school with reading scores of 70 or higher from school_data_complete\n",
    "students_passing_reading = complete_df[(complete_df[\"reading_score\"]>=70)]\n",
    "\n",
    "#school_students_passing_reading = <- is this another calculation? not sure but will group by school\n",
    "print(students_passing_reading)\n",
    "school_students_passing_reading = students_passing_reading.groupby([\"school_name\"]).count()\n",
    "print(school_students_passing_reading)"
   ]
  },
  {
   "cell_type": "code",
   "execution_count": 77,
   "id": "a51751ac-dab0-4bd5-b7d8-df5a4fa79b11",
   "metadata": {},
   "outputs": [
    {
     "name": "stdout",
     "output_type": "stream",
     "text": [
      "school_name\n",
      "Bailey High School       2719\n",
      "Cabrera High School      1697\n",
      "Figueroa High School     1569\n",
      "Ford High School         1487\n",
      "Griffin High School      1330\n",
      "Hernandez High School    2481\n",
      "Holden High School        381\n",
      "Huang High School        1561\n",
      "Johnson High School      2549\n",
      "Pena High School          871\n",
      "Rodriguez High School    2119\n",
      "Shelton High School      1583\n",
      "Thomas High School       1487\n",
      "Wilson High School       2068\n",
      "Wright High School       1626\n",
      "dtype: int64\n"
     ]
    }
   ],
   "source": [
    "# Use the provided code to calculate the number of students per school that passed both math and reading with scores of 70 or higher\n",
    "students_passing_math_and_reading = complete_df[\n",
    "    (complete_df[\"reading_score\"] >= 70) & (complete_df[\"math_score\"] >= 70)\n",
    "]\n",
    "school_students_passing_math_and_reading = students_passing_math_and_reading.groupby([\"school_name\"]).size()\n",
    "print(school_students_passing_math_and_reading)"
   ]
  },
  {
   "cell_type": "code",
   "execution_count": 78,
   "id": "0455a01e-1f85-445f-beee-138c065d7c03",
   "metadata": {},
   "outputs": [],
   "source": [
    "# Use the provided code to calculate the passing rates\n",
    "per_school_passing_math = school_students_passing_math / per_school_counts * 100\n",
    "per_school_passing_reading = school_students_passing_reading / per_school_counts * 100\n",
    "overall_passing_rate = school_students_passing_math_and_reading / per_school_counts * 100\n"
   ]
  },
  {
   "cell_type": "code",
   "execution_count": 83,
   "id": "987f41a2-68bf-4ebd-9771-7bed06e7b081",
   "metadata": {},
   "outputs": [
    {
     "ename": "ValueError",
     "evalue": "cannot reindex on an axis with duplicate labels",
     "output_type": "error",
     "traceback": [
      "\u001b[1;31m---------------------------------------------------------------------------\u001b[0m",
      "\u001b[1;31mValueError\u001b[0m                                Traceback (most recent call last)",
      "Cell \u001b[1;32mIn[83], line 2\u001b[0m\n\u001b[0;32m      1\u001b[0m \u001b[38;5;66;03m# Create a DataFrame called `per_school_summary` with columns for the calculations above.\u001b[39;00m\n\u001b[1;32m----> 2\u001b[0m per_school_summary \u001b[38;5;241m=\u001b[39m \u001b[43mpd\u001b[49m\u001b[38;5;241;43m.\u001b[39;49m\u001b[43mDataFrame\u001b[49m\u001b[43m(\u001b[49m\u001b[43m{\u001b[49m\n\u001b[0;32m      3\u001b[0m \u001b[43m    \u001b[49m\u001b[38;5;124;43m\"\u001b[39;49m\u001b[38;5;124;43mSchool Type\u001b[39;49m\u001b[38;5;124;43m\"\u001b[39;49m\u001b[43m:\u001b[49m\u001b[43m \u001b[49m\u001b[43mschool_types\u001b[49m\u001b[43m,\u001b[49m\n\u001b[0;32m      4\u001b[0m \u001b[43m    \u001b[49m\u001b[38;5;124;43m\"\u001b[39;49m\u001b[38;5;124;43mTotal Students\u001b[39;49m\u001b[38;5;124;43m\"\u001b[39;49m\u001b[43m:\u001b[49m\u001b[43m \u001b[49m\u001b[43mper_school_counts\u001b[49m\u001b[43m,\u001b[49m\n\u001b[0;32m      5\u001b[0m \u001b[43m    \u001b[49m\u001b[38;5;124;43m\"\u001b[39;49m\u001b[38;5;124;43mTotal School Budget\u001b[39;49m\u001b[38;5;124;43m\"\u001b[39;49m\u001b[43m:\u001b[49m\u001b[43m \u001b[49m\u001b[43mper_school_budget\u001b[49m\u001b[43m,\u001b[49m\n\u001b[0;32m      6\u001b[0m \u001b[43m    \u001b[49m\u001b[38;5;124;43m\"\u001b[39;49m\u001b[38;5;124;43mPer Student Budget\u001b[39;49m\u001b[38;5;124;43m\"\u001b[39;49m\u001b[43m:\u001b[49m\u001b[43m \u001b[49m\u001b[43mper_school_capita\u001b[49m\u001b[43m,\u001b[49m\n\u001b[0;32m      7\u001b[0m \u001b[43m    \u001b[49m\u001b[38;5;124;43m\"\u001b[39;49m\u001b[38;5;124;43mAverage Math Score\u001b[39;49m\u001b[38;5;124;43m\"\u001b[39;49m\u001b[43m:\u001b[49m\u001b[43m \u001b[49m\u001b[43mper_school_math\u001b[49m\u001b[43m,\u001b[49m\n\u001b[0;32m      8\u001b[0m \u001b[43m    \u001b[49m\u001b[38;5;124;43m\"\u001b[39;49m\u001b[38;5;124;43mAverage Reading Score\u001b[39;49m\u001b[38;5;124;43m\"\u001b[39;49m\u001b[43m:\u001b[49m\u001b[43m \u001b[49m\u001b[43mper_school_reading\u001b[49m\u001b[43m,\u001b[49m\n\u001b[0;32m      9\u001b[0m \u001b[43m    \u001b[49m\u001b[38;5;124;43m\"\u001b[39;49m\u001b[38;5;124;43mPercent Passing Math\u001b[39;49m\u001b[38;5;124;43m\"\u001b[39;49m\u001b[43m:\u001b[49m\u001b[43m \u001b[49m\u001b[43mper_school_passing_math\u001b[49m\u001b[43m,\u001b[49m\n\u001b[0;32m     10\u001b[0m \u001b[43m    \u001b[49m\u001b[38;5;124;43m\"\u001b[39;49m\u001b[38;5;124;43mPercent Passing Reading\u001b[39;49m\u001b[38;5;124;43m\"\u001b[39;49m\u001b[43m:\u001b[49m\u001b[43m \u001b[49m\u001b[43mper_school_passing_reading\u001b[49m\u001b[43m,\u001b[49m\n\u001b[0;32m     11\u001b[0m \u001b[43m    \u001b[49m\u001b[38;5;124;43m\"\u001b[39;49m\u001b[38;5;124;43mPercent Overall Passing\u001b[39;49m\u001b[38;5;124;43m\"\u001b[39;49m\u001b[43m:\u001b[49m\u001b[43m \u001b[49m\u001b[43moverall_passing_rate\u001b[49m\u001b[43m}\u001b[49m\u001b[43m)\u001b[49m\n\u001b[0;32m     13\u001b[0m \u001b[38;5;66;03m# Formatting\u001b[39;00m\n\u001b[0;32m     14\u001b[0m per_school_summary[\u001b[38;5;124m\"\u001b[39m\u001b[38;5;124mTotal School Budget\u001b[39m\u001b[38;5;124m\"\u001b[39m] \u001b[38;5;241m=\u001b[39m per_school_summary[\u001b[38;5;124m\"\u001b[39m\u001b[38;5;124mTotal School Budget\u001b[39m\u001b[38;5;124m\"\u001b[39m]\u001b[38;5;241m.\u001b[39mmap(\u001b[38;5;124m\"\u001b[39m\u001b[38;5;124m$\u001b[39m\u001b[38;5;132;01m{:,.2f}\u001b[39;00m\u001b[38;5;124m\"\u001b[39m\u001b[38;5;241m.\u001b[39mformat)\n",
      "File \u001b[1;32m~\\anaconda3\\envs\\dev\\lib\\site-packages\\pandas\\core\\frame.py:778\u001b[0m, in \u001b[0;36mDataFrame.__init__\u001b[1;34m(self, data, index, columns, dtype, copy)\u001b[0m\n\u001b[0;32m    772\u001b[0m     mgr \u001b[38;5;241m=\u001b[39m \u001b[38;5;28mself\u001b[39m\u001b[38;5;241m.\u001b[39m_init_mgr(\n\u001b[0;32m    773\u001b[0m         data, axes\u001b[38;5;241m=\u001b[39m{\u001b[38;5;124m\"\u001b[39m\u001b[38;5;124mindex\u001b[39m\u001b[38;5;124m\"\u001b[39m: index, \u001b[38;5;124m\"\u001b[39m\u001b[38;5;124mcolumns\u001b[39m\u001b[38;5;124m\"\u001b[39m: columns}, dtype\u001b[38;5;241m=\u001b[39mdtype, copy\u001b[38;5;241m=\u001b[39mcopy\n\u001b[0;32m    774\u001b[0m     )\n\u001b[0;32m    776\u001b[0m \u001b[38;5;28;01melif\u001b[39;00m \u001b[38;5;28misinstance\u001b[39m(data, \u001b[38;5;28mdict\u001b[39m):\n\u001b[0;32m    777\u001b[0m     \u001b[38;5;66;03m# GH#38939 de facto copy defaults to False only in non-dict cases\u001b[39;00m\n\u001b[1;32m--> 778\u001b[0m     mgr \u001b[38;5;241m=\u001b[39m \u001b[43mdict_to_mgr\u001b[49m\u001b[43m(\u001b[49m\u001b[43mdata\u001b[49m\u001b[43m,\u001b[49m\u001b[43m \u001b[49m\u001b[43mindex\u001b[49m\u001b[43m,\u001b[49m\u001b[43m \u001b[49m\u001b[43mcolumns\u001b[49m\u001b[43m,\u001b[49m\u001b[43m \u001b[49m\u001b[43mdtype\u001b[49m\u001b[38;5;241;43m=\u001b[39;49m\u001b[43mdtype\u001b[49m\u001b[43m,\u001b[49m\u001b[43m \u001b[49m\u001b[43mcopy\u001b[49m\u001b[38;5;241;43m=\u001b[39;49m\u001b[43mcopy\u001b[49m\u001b[43m,\u001b[49m\u001b[43m \u001b[49m\u001b[43mtyp\u001b[49m\u001b[38;5;241;43m=\u001b[39;49m\u001b[43mmanager\u001b[49m\u001b[43m)\u001b[49m\n\u001b[0;32m    779\u001b[0m \u001b[38;5;28;01melif\u001b[39;00m \u001b[38;5;28misinstance\u001b[39m(data, ma\u001b[38;5;241m.\u001b[39mMaskedArray):\n\u001b[0;32m    780\u001b[0m     \u001b[38;5;28;01mfrom\u001b[39;00m \u001b[38;5;21;01mnumpy\u001b[39;00m\u001b[38;5;21;01m.\u001b[39;00m\u001b[38;5;21;01mma\u001b[39;00m \u001b[38;5;28;01mimport\u001b[39;00m mrecords\n",
      "File \u001b[1;32m~\\anaconda3\\envs\\dev\\lib\\site-packages\\pandas\\core\\internals\\construction.py:503\u001b[0m, in \u001b[0;36mdict_to_mgr\u001b[1;34m(data, index, columns, dtype, typ, copy)\u001b[0m\n\u001b[0;32m    499\u001b[0m     \u001b[38;5;28;01melse\u001b[39;00m:\n\u001b[0;32m    500\u001b[0m         \u001b[38;5;66;03m# dtype check to exclude e.g. range objects, scalars\u001b[39;00m\n\u001b[0;32m    501\u001b[0m         arrays \u001b[38;5;241m=\u001b[39m [x\u001b[38;5;241m.\u001b[39mcopy() \u001b[38;5;28;01mif\u001b[39;00m \u001b[38;5;28mhasattr\u001b[39m(x, \u001b[38;5;124m\"\u001b[39m\u001b[38;5;124mdtype\u001b[39m\u001b[38;5;124m\"\u001b[39m) \u001b[38;5;28;01melse\u001b[39;00m x \u001b[38;5;28;01mfor\u001b[39;00m x \u001b[38;5;129;01min\u001b[39;00m arrays]\n\u001b[1;32m--> 503\u001b[0m \u001b[38;5;28;01mreturn\u001b[39;00m \u001b[43marrays_to_mgr\u001b[49m\u001b[43m(\u001b[49m\u001b[43marrays\u001b[49m\u001b[43m,\u001b[49m\u001b[43m \u001b[49m\u001b[43mcolumns\u001b[49m\u001b[43m,\u001b[49m\u001b[43m \u001b[49m\u001b[43mindex\u001b[49m\u001b[43m,\u001b[49m\u001b[43m \u001b[49m\u001b[43mdtype\u001b[49m\u001b[38;5;241;43m=\u001b[39;49m\u001b[43mdtype\u001b[49m\u001b[43m,\u001b[49m\u001b[43m \u001b[49m\u001b[43mtyp\u001b[49m\u001b[38;5;241;43m=\u001b[39;49m\u001b[43mtyp\u001b[49m\u001b[43m,\u001b[49m\u001b[43m \u001b[49m\u001b[43mconsolidate\u001b[49m\u001b[38;5;241;43m=\u001b[39;49m\u001b[43mcopy\u001b[49m\u001b[43m)\u001b[49m\n",
      "File \u001b[1;32m~\\anaconda3\\envs\\dev\\lib\\site-packages\\pandas\\core\\internals\\construction.py:119\u001b[0m, in \u001b[0;36marrays_to_mgr\u001b[1;34m(arrays, columns, index, dtype, verify_integrity, typ, consolidate)\u001b[0m\n\u001b[0;32m    116\u001b[0m         index \u001b[38;5;241m=\u001b[39m ensure_index(index)\n\u001b[0;32m    118\u001b[0m     \u001b[38;5;66;03m# don't force copy because getting jammed in an ndarray anyway\u001b[39;00m\n\u001b[1;32m--> 119\u001b[0m     arrays, refs \u001b[38;5;241m=\u001b[39m \u001b[43m_homogenize\u001b[49m\u001b[43m(\u001b[49m\u001b[43marrays\u001b[49m\u001b[43m,\u001b[49m\u001b[43m \u001b[49m\u001b[43mindex\u001b[49m\u001b[43m,\u001b[49m\u001b[43m \u001b[49m\u001b[43mdtype\u001b[49m\u001b[43m)\u001b[49m\n\u001b[0;32m    120\u001b[0m     \u001b[38;5;66;03m# _homogenize ensures\u001b[39;00m\n\u001b[0;32m    121\u001b[0m     \u001b[38;5;66;03m#  - all(len(x) == len(index) for x in arrays)\u001b[39;00m\n\u001b[0;32m    122\u001b[0m     \u001b[38;5;66;03m#  - all(x.ndim == 1 for x in arrays)\u001b[39;00m\n\u001b[1;32m   (...)\u001b[0m\n\u001b[0;32m    125\u001b[0m \n\u001b[0;32m    126\u001b[0m \u001b[38;5;28;01melse\u001b[39;00m:\n\u001b[0;32m    127\u001b[0m     index \u001b[38;5;241m=\u001b[39m ensure_index(index)\n",
      "File \u001b[1;32m~\\anaconda3\\envs\\dev\\lib\\site-packages\\pandas\\core\\internals\\construction.py:611\u001b[0m, in \u001b[0;36m_homogenize\u001b[1;34m(data, index, dtype)\u001b[0m\n\u001b[0;32m    607\u001b[0m     val \u001b[38;5;241m=\u001b[39m val\u001b[38;5;241m.\u001b[39mastype(dtype, copy\u001b[38;5;241m=\u001b[39m\u001b[38;5;28;01mFalse\u001b[39;00m)\n\u001b[0;32m    608\u001b[0m \u001b[38;5;28;01mif\u001b[39;00m \u001b[38;5;28misinstance\u001b[39m(val, ABCSeries) \u001b[38;5;129;01mand\u001b[39;00m val\u001b[38;5;241m.\u001b[39mindex \u001b[38;5;129;01mis\u001b[39;00m \u001b[38;5;129;01mnot\u001b[39;00m index:\n\u001b[0;32m    609\u001b[0m     \u001b[38;5;66;03m# Forces alignment. No need to copy data since we\u001b[39;00m\n\u001b[0;32m    610\u001b[0m     \u001b[38;5;66;03m# are putting it into an ndarray later\u001b[39;00m\n\u001b[1;32m--> 611\u001b[0m     val \u001b[38;5;241m=\u001b[39m \u001b[43mval\u001b[49m\u001b[38;5;241;43m.\u001b[39;49m\u001b[43mreindex\u001b[49m\u001b[43m(\u001b[49m\u001b[43mindex\u001b[49m\u001b[43m,\u001b[49m\u001b[43m \u001b[49m\u001b[43mcopy\u001b[49m\u001b[38;5;241;43m=\u001b[39;49m\u001b[38;5;28;43;01mFalse\u001b[39;49;00m\u001b[43m)\u001b[49m\n\u001b[0;32m    612\u001b[0m refs\u001b[38;5;241m.\u001b[39mappend(val\u001b[38;5;241m.\u001b[39m_references)\n\u001b[0;32m    613\u001b[0m val \u001b[38;5;241m=\u001b[39m val\u001b[38;5;241m.\u001b[39m_values\n",
      "File \u001b[1;32m~\\anaconda3\\envs\\dev\\lib\\site-packages\\pandas\\core\\series.py:5153\u001b[0m, in \u001b[0;36mSeries.reindex\u001b[1;34m(self, index, axis, method, copy, level, fill_value, limit, tolerance)\u001b[0m\n\u001b[0;32m   5136\u001b[0m \u001b[38;5;129m@doc\u001b[39m(\n\u001b[0;32m   5137\u001b[0m     NDFrame\u001b[38;5;241m.\u001b[39mreindex,  \u001b[38;5;66;03m# type: ignore[has-type]\u001b[39;00m\n\u001b[0;32m   5138\u001b[0m     klass\u001b[38;5;241m=\u001b[39m_shared_doc_kwargs[\u001b[38;5;124m\"\u001b[39m\u001b[38;5;124mklass\u001b[39m\u001b[38;5;124m\"\u001b[39m],\n\u001b[1;32m   (...)\u001b[0m\n\u001b[0;32m   5151\u001b[0m     tolerance\u001b[38;5;241m=\u001b[39m\u001b[38;5;28;01mNone\u001b[39;00m,\n\u001b[0;32m   5152\u001b[0m ) \u001b[38;5;241m-\u001b[39m\u001b[38;5;241m>\u001b[39m Series:\n\u001b[1;32m-> 5153\u001b[0m     \u001b[38;5;28;01mreturn\u001b[39;00m \u001b[38;5;28;43msuper\u001b[39;49m\u001b[43m(\u001b[49m\u001b[43m)\u001b[49m\u001b[38;5;241;43m.\u001b[39;49m\u001b[43mreindex\u001b[49m\u001b[43m(\u001b[49m\n\u001b[0;32m   5154\u001b[0m \u001b[43m        \u001b[49m\u001b[43mindex\u001b[49m\u001b[38;5;241;43m=\u001b[39;49m\u001b[43mindex\u001b[49m\u001b[43m,\u001b[49m\n\u001b[0;32m   5155\u001b[0m \u001b[43m        \u001b[49m\u001b[43mmethod\u001b[49m\u001b[38;5;241;43m=\u001b[39;49m\u001b[43mmethod\u001b[49m\u001b[43m,\u001b[49m\n\u001b[0;32m   5156\u001b[0m \u001b[43m        \u001b[49m\u001b[43mcopy\u001b[49m\u001b[38;5;241;43m=\u001b[39;49m\u001b[43mcopy\u001b[49m\u001b[43m,\u001b[49m\n\u001b[0;32m   5157\u001b[0m \u001b[43m        \u001b[49m\u001b[43mlevel\u001b[49m\u001b[38;5;241;43m=\u001b[39;49m\u001b[43mlevel\u001b[49m\u001b[43m,\u001b[49m\n\u001b[0;32m   5158\u001b[0m \u001b[43m        \u001b[49m\u001b[43mfill_value\u001b[49m\u001b[38;5;241;43m=\u001b[39;49m\u001b[43mfill_value\u001b[49m\u001b[43m,\u001b[49m\n\u001b[0;32m   5159\u001b[0m \u001b[43m        \u001b[49m\u001b[43mlimit\u001b[49m\u001b[38;5;241;43m=\u001b[39;49m\u001b[43mlimit\u001b[49m\u001b[43m,\u001b[49m\n\u001b[0;32m   5160\u001b[0m \u001b[43m        \u001b[49m\u001b[43mtolerance\u001b[49m\u001b[38;5;241;43m=\u001b[39;49m\u001b[43mtolerance\u001b[49m\u001b[43m,\u001b[49m\n\u001b[0;32m   5161\u001b[0m \u001b[43m    \u001b[49m\u001b[43m)\u001b[49m\n",
      "File \u001b[1;32m~\\anaconda3\\envs\\dev\\lib\\site-packages\\pandas\\core\\generic.py:5610\u001b[0m, in \u001b[0;36mNDFrame.reindex\u001b[1;34m(self, labels, index, columns, axis, method, copy, level, fill_value, limit, tolerance)\u001b[0m\n\u001b[0;32m   5607\u001b[0m     \u001b[38;5;28;01mreturn\u001b[39;00m \u001b[38;5;28mself\u001b[39m\u001b[38;5;241m.\u001b[39m_reindex_multi(axes, copy, fill_value)\n\u001b[0;32m   5609\u001b[0m \u001b[38;5;66;03m# perform the reindex on the axes\u001b[39;00m\n\u001b[1;32m-> 5610\u001b[0m \u001b[38;5;28;01mreturn\u001b[39;00m \u001b[38;5;28;43mself\u001b[39;49m\u001b[38;5;241;43m.\u001b[39;49m\u001b[43m_reindex_axes\u001b[49m\u001b[43m(\u001b[49m\n\u001b[0;32m   5611\u001b[0m \u001b[43m    \u001b[49m\u001b[43maxes\u001b[49m\u001b[43m,\u001b[49m\u001b[43m \u001b[49m\u001b[43mlevel\u001b[49m\u001b[43m,\u001b[49m\u001b[43m \u001b[49m\u001b[43mlimit\u001b[49m\u001b[43m,\u001b[49m\u001b[43m \u001b[49m\u001b[43mtolerance\u001b[49m\u001b[43m,\u001b[49m\u001b[43m \u001b[49m\u001b[43mmethod\u001b[49m\u001b[43m,\u001b[49m\u001b[43m \u001b[49m\u001b[43mfill_value\u001b[49m\u001b[43m,\u001b[49m\u001b[43m \u001b[49m\u001b[43mcopy\u001b[49m\n\u001b[0;32m   5612\u001b[0m \u001b[43m\u001b[49m\u001b[43m)\u001b[49m\u001b[38;5;241m.\u001b[39m__finalize__(\u001b[38;5;28mself\u001b[39m, method\u001b[38;5;241m=\u001b[39m\u001b[38;5;124m\"\u001b[39m\u001b[38;5;124mreindex\u001b[39m\u001b[38;5;124m\"\u001b[39m)\n",
      "File \u001b[1;32m~\\anaconda3\\envs\\dev\\lib\\site-packages\\pandas\\core\\generic.py:5633\u001b[0m, in \u001b[0;36mNDFrame._reindex_axes\u001b[1;34m(self, axes, level, limit, tolerance, method, fill_value, copy)\u001b[0m\n\u001b[0;32m   5630\u001b[0m     \u001b[38;5;28;01mcontinue\u001b[39;00m\n\u001b[0;32m   5632\u001b[0m ax \u001b[38;5;241m=\u001b[39m \u001b[38;5;28mself\u001b[39m\u001b[38;5;241m.\u001b[39m_get_axis(a)\n\u001b[1;32m-> 5633\u001b[0m new_index, indexer \u001b[38;5;241m=\u001b[39m \u001b[43max\u001b[49m\u001b[38;5;241;43m.\u001b[39;49m\u001b[43mreindex\u001b[49m\u001b[43m(\u001b[49m\n\u001b[0;32m   5634\u001b[0m \u001b[43m    \u001b[49m\u001b[43mlabels\u001b[49m\u001b[43m,\u001b[49m\u001b[43m \u001b[49m\u001b[43mlevel\u001b[49m\u001b[38;5;241;43m=\u001b[39;49m\u001b[43mlevel\u001b[49m\u001b[43m,\u001b[49m\u001b[43m \u001b[49m\u001b[43mlimit\u001b[49m\u001b[38;5;241;43m=\u001b[39;49m\u001b[43mlimit\u001b[49m\u001b[43m,\u001b[49m\u001b[43m \u001b[49m\u001b[43mtolerance\u001b[49m\u001b[38;5;241;43m=\u001b[39;49m\u001b[43mtolerance\u001b[49m\u001b[43m,\u001b[49m\u001b[43m \u001b[49m\u001b[43mmethod\u001b[49m\u001b[38;5;241;43m=\u001b[39;49m\u001b[43mmethod\u001b[49m\n\u001b[0;32m   5635\u001b[0m \u001b[43m\u001b[49m\u001b[43m)\u001b[49m\n\u001b[0;32m   5637\u001b[0m axis \u001b[38;5;241m=\u001b[39m \u001b[38;5;28mself\u001b[39m\u001b[38;5;241m.\u001b[39m_get_axis_number(a)\n\u001b[0;32m   5638\u001b[0m obj \u001b[38;5;241m=\u001b[39m obj\u001b[38;5;241m.\u001b[39m_reindex_with_indexers(\n\u001b[0;32m   5639\u001b[0m     {axis: [new_index, indexer]},\n\u001b[0;32m   5640\u001b[0m     fill_value\u001b[38;5;241m=\u001b[39mfill_value,\n\u001b[0;32m   5641\u001b[0m     copy\u001b[38;5;241m=\u001b[39mcopy,\n\u001b[0;32m   5642\u001b[0m     allow_dups\u001b[38;5;241m=\u001b[39m\u001b[38;5;28;01mFalse\u001b[39;00m,\n\u001b[0;32m   5643\u001b[0m )\n",
      "File \u001b[1;32m~\\anaconda3\\envs\\dev\\lib\\site-packages\\pandas\\core\\indexes\\base.py:4429\u001b[0m, in \u001b[0;36mIndex.reindex\u001b[1;34m(self, target, method, level, limit, tolerance)\u001b[0m\n\u001b[0;32m   4426\u001b[0m     \u001b[38;5;28;01mraise\u001b[39;00m \u001b[38;5;167;01mValueError\u001b[39;00m(\u001b[38;5;124m\"\u001b[39m\u001b[38;5;124mcannot handle a non-unique multi-index!\u001b[39m\u001b[38;5;124m\"\u001b[39m)\n\u001b[0;32m   4427\u001b[0m \u001b[38;5;28;01melif\u001b[39;00m \u001b[38;5;129;01mnot\u001b[39;00m \u001b[38;5;28mself\u001b[39m\u001b[38;5;241m.\u001b[39mis_unique:\n\u001b[0;32m   4428\u001b[0m     \u001b[38;5;66;03m# GH#42568\u001b[39;00m\n\u001b[1;32m-> 4429\u001b[0m     \u001b[38;5;28;01mraise\u001b[39;00m \u001b[38;5;167;01mValueError\u001b[39;00m(\u001b[38;5;124m\"\u001b[39m\u001b[38;5;124mcannot reindex on an axis with duplicate labels\u001b[39m\u001b[38;5;124m\"\u001b[39m)\n\u001b[0;32m   4430\u001b[0m \u001b[38;5;28;01melse\u001b[39;00m:\n\u001b[0;32m   4431\u001b[0m     indexer, _ \u001b[38;5;241m=\u001b[39m \u001b[38;5;28mself\u001b[39m\u001b[38;5;241m.\u001b[39mget_indexer_non_unique(target)\n",
      "\u001b[1;31mValueError\u001b[0m: cannot reindex on an axis with duplicate labels"
     ]
    }
   ],
   "source": [
    "# Create a DataFrame called `per_school_summary` with columns for the calculations above.\n",
    "per_school_summary = pd.DataFrame({\n",
    "    \"School Type\": school_types,\n",
    "    \"Total Students\": per_school_counts,\n",
    "    \"Total School Budget\": per_school_budget,\n",
    "    \"Per Student Budget\": per_school_capita,\n",
    "    \"Average Math Score\": per_school_math,\n",
    "    \"Average Reading Score\": per_school_reading,\n",
    "    \"Percent Passing Math\": per_school_passing_math,\n",
    "    \"Percent Passing Reading\": per_school_passing_reading,\n",
    "    \"Percent Overall Passing\": overall_passing_rate})\n",
    "\n",
    "# Formatting\n",
    "per_school_summary[\"Total School Budget\"] = per_school_summary[\"Total School Budget\"].map(\"${:,.2f}\".format)\n",
    "per_school_summary[\"Per Student Budget\"] = per_school_summary[\"Per Student Budget\"].map(\"${:,.2f}\".format)\n",
    "\n",
    "# Display the DataFrame\n",
    "per_school_summary\n"
   ]
  },
  {
   "cell_type": "code",
   "execution_count": null,
   "id": "a0b33526-4993-4f5a-92ee-acc7b71db6ec",
   "metadata": {},
   "outputs": [],
   "source": []
  }
 ],
 "metadata": {
  "kernelspec": {
   "display_name": "Python 3 (ipykernel)",
   "language": "python",
   "name": "python3"
  },
  "language_info": {
   "codemirror_mode": {
    "name": "ipython",
    "version": 3
   },
   "file_extension": ".py",
   "mimetype": "text/x-python",
   "name": "python",
   "nbconvert_exporter": "python",
   "pygments_lexer": "ipython3",
   "version": "3.10.14"
  }
 },
 "nbformat": 4,
 "nbformat_minor": 5
}
